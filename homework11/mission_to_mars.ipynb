{
 "cells": [
  {
   "cell_type": "code",
   "execution_count": 11,
   "metadata": {},
   "outputs": [],
   "source": [
    "# Dependencies\n",
    "import os\n",
    "from bs4 import BeautifulSoup as bs\n",
    "import requests\n",
    "from splinter import Browser\n",
    "import pandas as pd\n",
    "import time"
   ]
  },
  {
   "cell_type": "code",
   "execution_count": 12,
   "metadata": {},
   "outputs": [],
   "source": [
    "# First URL to scrape\n",
    "mars_news_url = 'https://mars.nasa.gov/news'"
   ]
  },
  {
   "cell_type": "code",
   "execution_count": 13,
   "metadata": {},
   "outputs": [],
   "source": [
    "def init_browser():\n",
    "    executable_path = {'executable_path': 'chromedriver.exe'}\n",
    "    browser = Browser('chrome', **executable_path, headless=False)\n",
    "    return browser\n",
    "\n",
    "browser = init_browser()"
   ]
  },
  {
   "cell_type": "code",
   "execution_count": 17,
   "metadata": {},
   "outputs": [],
   "source": [
    "# Visit url with splinter\n",
    "browser.visit(mars_news_url)\n",
    "# Add sleep since sometimes web browser doesn't load quickly enough before returning html data for soup\n",
    "time.sleep(1)\n"
   ]
  },
  {
   "cell_type": "code",
   "execution_count": 19,
   "metadata": {
    "scrolled": true
   },
   "outputs": [
    {
     "name": "stdout",
     "output_type": "stream",
     "text": [
      "<li class=\"slide\">\n",
      " <div class=\"image_and_description_container\">\n",
      "  <a href=\"/news/8378/nasas-insight-will-study-mars-while-standing-still/\" target=\"_self\">\n",
      "   <div class=\"rollover_description\">\n",
      "    <div class=\"rollover_description_inner\">\n",
      "     The lander's unique science can teach us how planets are born.\n",
      "    </div>\n",
      "    <div class=\"overlay_arrow\">\n",
      "     <img alt=\"More\" src=\"/assets/overlay-arrow.png\"/>\n",
      "    </div>\n",
      "   </div>\n",
      "   <div class=\"list_image\">\n",
      "    <img alt=\"This artist's concept depicts NASA's InSight lander after it has deployed its instruments on the Martian surface.\" src=\"/system/news_items/list_view_images/8378_PIA22743-320x240.jpg\"/>\n",
      "   </div>\n",
      "   <div class=\"bottom_gradient\">\n",
      "    <div>\n",
      "     <h3>\n",
      "      NASA's InSight Will Study Mars While Standing Still\n",
      "     </h3>\n",
      "    </div>\n",
      "   </div>\n",
      "  </a>\n",
      "  <div class=\"list_text\">\n",
      "   <div class=\"list_date\">\n",
      "    October 24, 2018\n",
      "   </div>\n",
      "   <div class=\"content_title\">\n",
      "    <a href=\"/news/8378/nasas-insight-will-study-mars-while-standing-still/\" target=\"_self\">\n",
      "     NASA's InSight Will Study Mars While Standing Still\n",
      "    </a>\n",
      "   </div>\n",
      "   <div class=\"article_teaser_body\">\n",
      "    The lander's unique science can teach us how planets are born.\n",
      "   </div>\n",
      "  </div>\n",
      " </div>\n",
      "</li>\n",
      "\n"
     ]
    }
   ],
   "source": [
    "# Get html to process\n",
    "html = browser.html\n",
    "# Parse with soup\n",
    "soup = bs(html, 'html.parser')\n",
    "# find first element which will be latest news\n",
    "news_latest = soup.find('li', class_='slide')\n",
    "#print(news_latest.prettify())"
   ]
  },
  {
   "cell_type": "code",
   "execution_count": 20,
   "metadata": {},
   "outputs": [],
   "source": [
    "# Get news title\n",
    "news_title = news_latest.find('div', class_=\"content_title\").text\n",
    "# Get the teaser as paragraph info\n",
    "news_p = news_latest.find('div', class_=\"article_teaser_body\").text\n",
    "#news_p"
   ]
  },
  {
   "cell_type": "code",
   "execution_count": 21,
   "metadata": {},
   "outputs": [
    {
     "data": {
      "text/plain": [
       "\"The lander's unique science can teach us how planets are born.\""
      ]
     },
     "execution_count": 21,
     "metadata": {},
     "output_type": "execute_result"
    }
   ],
   "source": [
    "news_p"
   ]
  },
  {
   "cell_type": "code",
   "execution_count": 24,
   "metadata": {},
   "outputs": [],
   "source": [
    "# Begin second scrape\n",
    "mars_image_url = \"https://www.jpl.nasa.gov/spaceimages/?search=&category=Mars\"\n",
    "browser.visit(mars_image_url)\n",
    "# add sleep for website loading delay\n",
    "time.sleep(1)\n",
    "full_image_button = browser.find_by_id(\"full_image\")\n",
    "full_image_button.click()\n",
    "time.sleep(1)\n",
    "# Unable to figure out how to click button 'more info' on website so used bs to create link\n",
    "html = browser.html\n",
    "soup = bs(html, 'html.parser')\n",
    "image_url = 'https://www.jpl.nasa.gov' + soup.find('div', class_=\"buttons\").find('a', class_=\"button\")['href']\n",
    "browser.visit(image_url)"
   ]
  },
  {
   "cell_type": "code",
   "execution_count": 25,
   "metadata": {},
   "outputs": [
    {
     "data": {
      "text/plain": [
       "'https://www.jpl.nasa.gov/spaceimages/images/largesize/PIA13664_hires.jpg'"
      ]
     },
     "execution_count": 25,
     "metadata": {},
     "output_type": "execute_result"
    }
   ],
   "source": [
    "# Get the large image\n",
    "html = browser.html\n",
    "soup = bs(html, 'html.parser')\n",
    "featured_image_url = 'https://www.jpl.nasa.gov' + soup.find('figure').find('a')['href']\n",
    "featured_image_url"
   ]
  },
  {
   "cell_type": "code",
   "execution_count": 26,
   "metadata": {},
   "outputs": [],
   "source": [
    "# Scrape third website\n",
    "twitter_mars_weather_url = \"https://twitter.com/marswxreport?lang=en\"\n",
    "browser.visit(twitter_mars_weather_url)\n",
    "html = browser.html\n",
    "soup = bs(html, 'html.parser')"
   ]
  },
  {
   "cell_type": "code",
   "execution_count": 27,
   "metadata": {},
   "outputs": [],
   "source": [
    "#print(soup.prettify())"
   ]
  },
  {
   "cell_type": "code",
   "execution_count": 28,
   "metadata": {},
   "outputs": [
    {
     "data": {
      "text/plain": [
       "'Sol 2174 (2018-09-17), high -22C/-7F, low -68C/-90F, pressure at 8.96 hPa, daylight 05:45-18:01'"
      ]
     },
     "execution_count": 28,
     "metadata": {},
     "output_type": "execute_result"
    }
   ],
   "source": [
    "# Noticed that sometimes the weather isn't always given in tweet so search for text pattern beginning with Sol\n",
    "weather_tweets = soup.findAll('li', {\"class\": [\"js-stream-item\", \"stream-item\", \"stream-item\"]})\n",
    "#weather_tweets[1].find('p').text\n",
    "for weather_tweet in weather_tweets:\n",
    "    tweet = weather_tweet.find('p').text\n",
    "    if(tweet):\n",
    "        x = tweet.split()\n",
    "        if(x[0] == 'Sol'):\n",
    "            break\n",
    "mars_weather = tweet\n",
    "mars_weather"
   ]
  },
  {
   "cell_type": "code",
   "execution_count": 29,
   "metadata": {},
   "outputs": [
    {
     "data": {
      "text/html": [
       "<div>\n",
       "<style scoped>\n",
       "    .dataframe tbody tr th:only-of-type {\n",
       "        vertical-align: middle;\n",
       "    }\n",
       "\n",
       "    .dataframe tbody tr th {\n",
       "        vertical-align: top;\n",
       "    }\n",
       "\n",
       "    .dataframe thead th {\n",
       "        text-align: right;\n",
       "    }\n",
       "</style>\n",
       "<table border=\"1\" class=\"dataframe\">\n",
       "  <thead>\n",
       "    <tr style=\"text-align: right;\">\n",
       "      <th></th>\n",
       "      <th>0</th>\n",
       "      <th>1</th>\n",
       "    </tr>\n",
       "  </thead>\n",
       "  <tbody>\n",
       "    <tr>\n",
       "      <th>0</th>\n",
       "      <td>Equatorial Diameter:</td>\n",
       "      <td>6,792 km</td>\n",
       "    </tr>\n",
       "    <tr>\n",
       "      <th>1</th>\n",
       "      <td>Polar Diameter:</td>\n",
       "      <td>6,752 km</td>\n",
       "    </tr>\n",
       "    <tr>\n",
       "      <th>2</th>\n",
       "      <td>Mass:</td>\n",
       "      <td>6.42 x 10^23 kg (10.7% Earth)</td>\n",
       "    </tr>\n",
       "    <tr>\n",
       "      <th>3</th>\n",
       "      <td>Moons:</td>\n",
       "      <td>2 (Phobos &amp; Deimos)</td>\n",
       "    </tr>\n",
       "    <tr>\n",
       "      <th>4</th>\n",
       "      <td>Orbit Distance:</td>\n",
       "      <td>227,943,824 km (1.52 AU)</td>\n",
       "    </tr>\n",
       "    <tr>\n",
       "      <th>5</th>\n",
       "      <td>Orbit Period:</td>\n",
       "      <td>687 days (1.9 years)</td>\n",
       "    </tr>\n",
       "    <tr>\n",
       "      <th>6</th>\n",
       "      <td>Surface Temperature:</td>\n",
       "      <td>-153 to 20 °C</td>\n",
       "    </tr>\n",
       "    <tr>\n",
       "      <th>7</th>\n",
       "      <td>First Record:</td>\n",
       "      <td>2nd millennium BC</td>\n",
       "    </tr>\n",
       "    <tr>\n",
       "      <th>8</th>\n",
       "      <td>Recorded By:</td>\n",
       "      <td>Egyptian astronomers</td>\n",
       "    </tr>\n",
       "  </tbody>\n",
       "</table>\n",
       "</div>"
      ],
      "text/plain": [
       "                      0                              1\n",
       "0  Equatorial Diameter:                       6,792 km\n",
       "1       Polar Diameter:                       6,752 km\n",
       "2                 Mass:  6.42 x 10^23 kg (10.7% Earth)\n",
       "3                Moons:            2 (Phobos & Deimos)\n",
       "4       Orbit Distance:       227,943,824 km (1.52 AU)\n",
       "5         Orbit Period:           687 days (1.9 years)\n",
       "6  Surface Temperature:                  -153 to 20 °C\n",
       "7         First Record:              2nd millennium BC\n",
       "8          Recorded By:           Egyptian astronomers"
      ]
     },
     "execution_count": 29,
     "metadata": {},
     "output_type": "execute_result"
    }
   ],
   "source": [
    "# Use pandas to scrape table data\n",
    "mars_facts_url = \"https://space-facts.com/mars\"\n",
    "facts_table = pd.read_html(mars_facts_url)\n",
    "facts_table[0]"
   ]
  },
  {
   "cell_type": "code",
   "execution_count": 30,
   "metadata": {},
   "outputs": [],
   "source": [
    "# Assign dataframe\n",
    "mars_facts_df = facts_table[0]\n",
    "# Set column values\n",
    "mars_facts_df.columns = ['Description', 'Values']\n",
    "# set first column as index\n",
    "mars_facts_df = mars_facts_df.set_index('Description')\n",
    "# Save to string add border and class name for table\n",
    "mars_facts_html_table = mars_facts_df.to_html(border=1, classes=\"mars_facts_table\")"
   ]
  },
  {
   "cell_type": "code",
   "execution_count": 31,
   "metadata": {},
   "outputs": [
    {
     "data": {
      "text/plain": [
       "'<table border=\"1\" class=\"dataframe mars_facts_table\">  <thead>    <tr style=\"text-align: right;\">      <th></th>      <th>Values</th>    </tr>    <tr>      <th>Description</th>      <th></th>    </tr>  </thead>  <tbody>    <tr>      <th>Equatorial Diameter:</th>      <td>6,792 km</td>    </tr>    <tr>      <th>Polar Diameter:</th>      <td>6,752 km</td>    </tr>    <tr>      <th>Mass:</th>      <td>6.42 x 10^23 kg (10.7% Earth)</td>    </tr>    <tr>      <th>Moons:</th>      <td>2 (Phobos &amp; Deimos)</td>    </tr>    <tr>      <th>Orbit Distance:</th>      <td>227,943,824 km (1.52 AU)</td>    </tr>    <tr>      <th>Orbit Period:</th>      <td>687 days (1.9 years)</td>    </tr>    <tr>      <th>Surface Temperature:</th>      <td>-153 to 20 °C</td>    </tr>    <tr>      <th>First Record:</th>      <td>2nd millennium BC</td>    </tr>    <tr>      <th>Recorded By:</th>      <td>Egyptian astronomers</td>    </tr>  </tbody></table>'"
      ]
     },
     "execution_count": 31,
     "metadata": {},
     "output_type": "execute_result"
    }
   ],
   "source": [
    "# Remove \\n\n",
    "mars_facts_html_table = mars_facts_html_table.replace(\"\\n\", \"\")\n",
    "mars_facts_html_table"
   ]
  },
  {
   "cell_type": "code",
   "execution_count": 32,
   "metadata": {},
   "outputs": [],
   "source": [
    "# Scrap fourth website\n",
    "mars_hemispheres_url = \"https://astrogeology.usgs.gov/search/results?q=hemisphere+enhanced&k1=target&v1=Mars\"\n",
    "browser.visit(mars_hemispheres_url)\n",
    "html = browser.html\n",
    "soup = bs(html, 'html.parser')"
   ]
  },
  {
   "cell_type": "code",
   "execution_count": 33,
   "metadata": {},
   "outputs": [],
   "source": [
    "# get items that contain links to pictures for hemispheres\n",
    "image_hrefs = soup.find_all('div', class_=\"item\")"
   ]
  },
  {
   "cell_type": "code",
   "execution_count": 34,
   "metadata": {},
   "outputs": [
    {
     "data": {
      "text/plain": [
       "[{'title': 'Cerberus Hemisphere Enhanced',\n",
       "  'img_url': 'http://astropedia.astrogeology.usgs.gov/download/Mars/Viking/cerberus_enhanced.tif'},\n",
       " {'title': 'Schiaparelli Hemisphere Enhanced',\n",
       "  'img_url': 'http://astropedia.astrogeology.usgs.gov/download/Mars/Viking/schiaparelli_enhanced.tif'},\n",
       " {'title': 'Syrtis Major Hemisphere Enhanced',\n",
       "  'img_url': 'http://astropedia.astrogeology.usgs.gov/download/Mars/Viking/syrtis_major_enhanced.tif'},\n",
       " {'title': 'Valles Marineris Hemisphere Enhanced',\n",
       "  'img_url': 'http://astropedia.astrogeology.usgs.gov/download/Mars/Viking/valles_marineris_enhanced.tif'}]"
      ]
     },
     "execution_count": 34,
     "metadata": {},
     "output_type": "execute_result"
    }
   ],
   "source": [
    "# Use for loop to go through image_hrefs and extract the image url and title\n",
    "# This will hold list of image dicts\n",
    "hemisphere_image_urls = []\n",
    "for image_href in image_hrefs:\n",
    "    browser.visit(\"https://astrogeology.usgs.gov/\" + image_href.find('a')['href'])\n",
    "    html = browser.html\n",
    "    soup = bs(html, 'html.parser')\n",
    "    image_dict = {}\n",
    "    image_dict['title'] = soup.find('h2', class_=\"title\").text\n",
    "    image_dict['img_url'] = soup.find('a', text=\"Original\")['href']\n",
    "    hemisphere_image_urls.append(image_dict)\n",
    "\n",
    "hemisphere_image_urls    "
   ]
  },
  {
   "cell_type": "code",
   "execution_count": 35,
   "metadata": {},
   "outputs": [],
   "source": [
    "mars_data_dict = {}\n",
    "mars_data_dict['facts'] = mars_facts_html_table"
   ]
  },
  {
   "cell_type": "code",
   "execution_count": 36,
   "metadata": {},
   "outputs": [
    {
     "data": {
      "text/plain": [
       "{'facts': '<table border=\"1\" class=\"dataframe mars_facts_table\">  <thead>    <tr style=\"text-align: right;\">      <th></th>      <th>Values</th>    </tr>    <tr>      <th>Description</th>      <th></th>    </tr>  </thead>  <tbody>    <tr>      <th>Equatorial Diameter:</th>      <td>6,792 km</td>    </tr>    <tr>      <th>Polar Diameter:</th>      <td>6,752 km</td>    </tr>    <tr>      <th>Mass:</th>      <td>6.42 x 10^23 kg (10.7% Earth)</td>    </tr>    <tr>      <th>Moons:</th>      <td>2 (Phobos &amp; Deimos)</td>    </tr>    <tr>      <th>Orbit Distance:</th>      <td>227,943,824 km (1.52 AU)</td>    </tr>    <tr>      <th>Orbit Period:</th>      <td>687 days (1.9 years)</td>    </tr>    <tr>      <th>Surface Temperature:</th>      <td>-153 to 20 °C</td>    </tr>    <tr>      <th>First Record:</th>      <td>2nd millennium BC</td>    </tr>    <tr>      <th>Recorded By:</th>      <td>Egyptian astronomers</td>    </tr>  </tbody></table>'}"
      ]
     },
     "execution_count": 36,
     "metadata": {},
     "output_type": "execute_result"
    }
   ],
   "source": [
    "mars_data_dict"
   ]
  },
  {
   "cell_type": "code",
   "execution_count": null,
   "metadata": {},
   "outputs": [],
   "source": []
  },
  {
   "cell_type": "markdown",
   "metadata": {},
   "source": [
    "# Used for debugging python function\n",
    "import os\n",
    "from bs4 import BeautifulSoup as bs\n",
    "import requests\n",
    "from splinter import Browser\n",
    "import pandas as pd\n",
    "import time\n",
    "\n",
    "def init_browser():\n",
    "    executable_path = {'executable_path': 'chromedriver.exe'}\n",
    "    #return Browser('chrome', **executable_path, headless=False)\n",
    "    return Browser('chrome', **executable_path, headless=False)\n",
    "\n",
    "def scrape():\n",
    "    browser = init_browser()\n",
    "    # create mars data dict that we can insert into mongo\n",
    "    mars_data_dict = {}\n",
    "    \n",
    "    mars_news_url = 'https://mars.nasa.gov/news'\n",
    "    browser.visit(mars_news_url)\n",
    "    time.sleep(1)\n",
    "    html = browser.html\n",
    "    soup = bs(html, 'html.parser')\n",
    "    # find first element which will be latest news\n",
    "    news_latest = soup.find('li', class_='slide')\n",
    "    #print(news_latest.prettify())\n",
    "    news_title = news_latest.find('div', class_=\"content_title\").text\n",
    "    news_p = news_latest.find('div', class_=\"article_teaser_body\").text\n",
    "    #news_p\n",
    "    mars_data_dict['news_title'] = news_title\n",
    "    mars_data_dict['news_p'] = news_p\n",
    "\n",
    "    mars_image_url = \"https://www.jpl.nasa.gov/spaceimages/?search=&category=Mars\"\n",
    "    browser.visit(mars_image_url)\n",
    "    time.sleep(1)\n",
    "    full_image_button = browser.find_by_id(\"full_image\")\n",
    "    full_image_button.click()\n",
    "    time.sleep(1)\n",
    "    # Unable to figure out how to click button 'more info' on website so used bs to create link\n",
    "    html = browser.html\n",
    "    soup = bs(html, 'html.parser')\n",
    "    image_url = 'https://www.jpl.nasa.gov' + soup.find('div', class_=\"buttons\").find('a', class_=\"button\")['href']\n",
    "    browser.visit(image_url)\n",
    "    time.sleep(1)\n",
    "    # Get the large image\n",
    "    html = browser.html\n",
    "    soup = bs(html, 'html.parser')\n",
    "    featured_image_url = 'https://www.jpl.nasa.gov' + soup.find('figure').find('a')['href']\n",
    "    #featured_image_url\n",
    "    mars_data_dict['featured_image_url'] = featured_image_url\n",
    "\n",
    "    twitter_mars_weather_url = \"https://twitter.com/marswxreport?lang=en\"\n",
    "    browser.visit(twitter_mars_weather_url)\n",
    "    time.sleep(1)\n",
    "    html = browser.html\n",
    "    soup = bs(html, 'html.parser')\n",
    "\n",
    "    weather_tweets = soup.findAll('li', {\"class\": [\"js-stream-item\", \"stream-item\", \"stream-item\"]})\n",
    "    # sometimes first tweet isn't always weather so search through tweets\n",
    "    for weather_tweet in weather_tweets:\n",
    "        tweet = weather_tweet.find('p').text\n",
    "        if(tweet):\n",
    "            x = tweet.split()\n",
    "            if(x[0] == 'Sol'):\n",
    "                break\n",
    "    \n",
    "    mars_weather = tweet\n",
    "    mars_data_dict['mars_weather'] = mars_weather\n",
    "\n",
    "    mars_facts_url = \"https://space-facts.com/mars\"\n",
    "    facts_table = pd.read_html(mars_facts_url)\n",
    "    #facts_table[0]\n",
    "    mars_facts_df = facts_table[0]\n",
    "    mars_facts_df.columns = ['Description', 'Values']\n",
    "    mars_facts_df = mars_facts_df.set_index('Description')\n",
    "    mars_facts_html_table = mars_facts_df.to_html(border=1, classes=\"mars_facts_table\")\n",
    "    mars_facts_html_table = mars_facts_html_table.replace(\"\\n\", \"\")\n",
    "    #mars_facts_html_table\n",
    "    mars_data_dict['mars_facts_html_table'] = mars_facts_html_table\n",
    "\n",
    "    mars_hemispheres_url = \"https://astrogeology.usgs.gov/search/results?q=hemisphere+enhanced&k1=target&v1=Mars\"\n",
    "    browser.visit(mars_hemispheres_url)\n",
    "    time.sleep(1)\n",
    "    html = browser.html\n",
    "    soup = bs(html, 'html.parser')\n",
    "    image_hrefs = soup.find_all('div', class_=\"item\")\n",
    "\n",
    "    hemisphere_image_urls = []\n",
    "    for image_href in image_hrefs:\n",
    "        browser.visit(\"https://astrogeology.usgs.gov/\" + image_href.find('a')['href'])\n",
    "        time.sleep(1)\n",
    "        html = browser.html\n",
    "        soup = bs(html, 'html.parser')\n",
    "        image_dict = {}\n",
    "        image_dict['title'] = soup.find('h2', class_=\"title\").text\n",
    "        image_dict['img_url'] = soup.find('a', text=\"Sample\")['href']\n",
    "        hemisphere_image_urls.append(image_dict)\n",
    "    #hemisphere_image_urls\n",
    "    mars_data_dict['hemisphere_image_urls'] = hemisphere_image_urls\n",
    "\n",
    "    browser.quit()\n",
    "    return mars_data_dict\n",
    "\n",
    "temp = scrape()\n",
    "temp"
   ]
  },
  {
   "cell_type": "code",
   "execution_count": null,
   "metadata": {},
   "outputs": [],
   "source": []
  }
 ],
 "metadata": {
  "kernelspec": {
   "display_name": "Python [conda env:PythonData]",
   "language": "python",
   "name": "conda-env-PythonData-py"
  },
  "language_info": {
   "codemirror_mode": {
    "name": "ipython",
    "version": 3
   },
   "file_extension": ".py",
   "mimetype": "text/x-python",
   "name": "python",
   "nbconvert_exporter": "python",
   "pygments_lexer": "ipython3",
   "version": "3.6.5"
  }
 },
 "nbformat": 4,
 "nbformat_minor": 2
}
