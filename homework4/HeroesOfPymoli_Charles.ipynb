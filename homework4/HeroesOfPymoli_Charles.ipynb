{
 "cells": [
  {
   "cell_type": "markdown",
   "metadata": {},
   "source": [
    "### Heroes Of Pymoli Data Analysis\n",
    "* Of the 1163 active players, the vast majority are male (84%). There also exists, a smaller, but notable proportion of female players (14%).\n",
    "\n",
    "* Our peak age demographic falls between 20-24 (44.8%) with secondary groups falling between 15-19 (18.60%) and 25-29 (13.4%).  \n",
    "-----"
   ]
  },
  {
   "cell_type": "markdown",
   "metadata": {},
   "source": [
    "### Note\n",
    "* Instructions have been included for each segment. You do not have to follow them exactly, but they are included to help you think through the steps."
   ]
  },
  {
   "cell_type": "code",
   "execution_count": 2,
   "metadata": {},
   "outputs": [],
   "source": [
    "# Dependencies and Setup\n",
    "import pandas as pd\n",
    "import numpy as np\n",
    "\n",
    "# Raw data file\n",
    "file_to_load = \"Resources/purchase_data.csv\"\n",
    "\n",
    "# Read purchasing file and store into pandas data frame\n",
    "purchase_data = pd.read_csv(file_to_load)"
   ]
  },
  {
   "cell_type": "markdown",
   "metadata": {},
   "source": [
    "## Player Count"
   ]
  },
  {
   "cell_type": "markdown",
   "metadata": {},
   "source": [
    "* Display the total number of players\n"
   ]
  },
  {
   "cell_type": "code",
   "execution_count": 3,
   "metadata": {},
   "outputs": [
    {
     "data": {
      "text/html": [
       "<div>\n",
       "<style scoped>\n",
       "    .dataframe tbody tr th:only-of-type {\n",
       "        vertical-align: middle;\n",
       "    }\n",
       "\n",
       "    .dataframe tbody tr th {\n",
       "        vertical-align: top;\n",
       "    }\n",
       "\n",
       "    .dataframe thead th {\n",
       "        text-align: right;\n",
       "    }\n",
       "</style>\n",
       "<table border=\"1\" class=\"dataframe\">\n",
       "  <thead>\n",
       "    <tr style=\"text-align: right;\">\n",
       "      <th></th>\n",
       "      <th>Total Players</th>\n",
       "    </tr>\n",
       "  </thead>\n",
       "  <tbody>\n",
       "    <tr>\n",
       "      <th>0</th>\n",
       "      <td>576</td>\n",
       "    </tr>\n",
       "  </tbody>\n",
       "</table>\n",
       "</div>"
      ],
      "text/plain": [
       "   Total Players\n",
       "0            576"
      ]
     },
     "execution_count": 3,
     "metadata": {},
     "output_type": "execute_result"
    }
   ],
   "source": [
    "total_players_array = purchase_data['SN'].unique()\n",
    "total_player_df = pd.DataFrame({'Total Players':[len(total_players_array)]})\n",
    "total_player_df"
   ]
  },
  {
   "cell_type": "markdown",
   "metadata": {},
   "source": [
    "## Purchasing Analysis (Total)"
   ]
  },
  {
   "cell_type": "markdown",
   "metadata": {},
   "source": [
    "* Run basic calculations to obtain number of unique items, average price, etc.\n",
    "\n",
    "\n",
    "* Create a summary data frame to hold the results\n",
    "\n",
    "\n",
    "* Optional: give the displayed data cleaner formatting\n",
    "\n",
    "\n",
    "* Display the summary data frame\n"
   ]
  },
  {
   "cell_type": "code",
   "execution_count": 4,
   "metadata": {
    "scrolled": true
   },
   "outputs": [
    {
     "data": {
      "text/html": [
       "<div>\n",
       "<style scoped>\n",
       "    .dataframe tbody tr th:only-of-type {\n",
       "        vertical-align: middle;\n",
       "    }\n",
       "\n",
       "    .dataframe tbody tr th {\n",
       "        vertical-align: top;\n",
       "    }\n",
       "\n",
       "    .dataframe thead th {\n",
       "        text-align: right;\n",
       "    }\n",
       "</style>\n",
       "<table border=\"1\" class=\"dataframe\">\n",
       "  <thead>\n",
       "    <tr style=\"text-align: right;\">\n",
       "      <th></th>\n",
       "      <th>Number of Unique Items</th>\n",
       "      <th>Average Price</th>\n",
       "      <th>Number of Purchases</th>\n",
       "      <th>Total Revenue</th>\n",
       "    </tr>\n",
       "  </thead>\n",
       "  <tbody>\n",
       "    <tr>\n",
       "      <th>0</th>\n",
       "      <td>179</td>\n",
       "      <td>$3.05</td>\n",
       "      <td>780</td>\n",
       "      <td>$2,379.77</td>\n",
       "    </tr>\n",
       "  </tbody>\n",
       "</table>\n",
       "</div>"
      ],
      "text/plain": [
       "   Number of Unique Items Average Price  Number of Purchases Total Revenue\n",
       "0                     179         $3.05                  780     $2,379.77"
      ]
     },
     "execution_count": 4,
     "metadata": {},
     "output_type": "execute_result"
    }
   ],
   "source": [
    "purchase_analysis_df = pd.DataFrame({\"Number of Unique Items\":[len(purchase_data['Item Name'].unique())], \n",
    "                                     \"Average Price\":['${:,.2f}'.format(purchase_data['Price'].mean())],\n",
    "                                     \"Number of Purchases\":[purchase_data['Price'].count()],\n",
    "                                     \"Total Revenue\": ['${:,.2f}'.format(purchase_data['Price'].sum())]})\n",
    "purchase_analysis_df"
   ]
  },
  {
   "cell_type": "markdown",
   "metadata": {},
   "source": [
    "## Gender Demographics"
   ]
  },
  {
   "cell_type": "markdown",
   "metadata": {},
   "source": [
    "* Percentage and Count of Male Players\n",
    "\n",
    "\n",
    "* Percentage and Count of Female Players\n",
    "\n",
    "\n",
    "* Percentage and Count of Other / Non-Disclosed\n",
    "\n",
    "\n"
   ]
  },
  {
   "cell_type": "code",
   "execution_count": 5,
   "metadata": {},
   "outputs": [
    {
     "data": {
      "text/html": [
       "<div>\n",
       "<style scoped>\n",
       "    .dataframe tbody tr th:only-of-type {\n",
       "        vertical-align: middle;\n",
       "    }\n",
       "\n",
       "    .dataframe tbody tr th {\n",
       "        vertical-align: top;\n",
       "    }\n",
       "\n",
       "    .dataframe thead th {\n",
       "        text-align: right;\n",
       "    }\n",
       "</style>\n",
       "<table border=\"1\" class=\"dataframe\">\n",
       "  <thead>\n",
       "    <tr style=\"text-align: right;\">\n",
       "      <th></th>\n",
       "      <th>Percentage of Players</th>\n",
       "      <th>Total Count</th>\n",
       "    </tr>\n",
       "    <tr>\n",
       "      <th>Gender</th>\n",
       "      <th></th>\n",
       "      <th></th>\n",
       "    </tr>\n",
       "  </thead>\n",
       "  <tbody>\n",
       "    <tr>\n",
       "      <th>Female</th>\n",
       "      <td>14.06</td>\n",
       "      <td>81</td>\n",
       "    </tr>\n",
       "    <tr>\n",
       "      <th>Male</th>\n",
       "      <td>84.03</td>\n",
       "      <td>484</td>\n",
       "    </tr>\n",
       "    <tr>\n",
       "      <th>Other / Non-Disclosed</th>\n",
       "      <td>1.91</td>\n",
       "      <td>11</td>\n",
       "    </tr>\n",
       "  </tbody>\n",
       "</table>\n",
       "</div>"
      ],
      "text/plain": [
       "                       Percentage of Players  Total Count\n",
       "Gender                                                   \n",
       "Female                                 14.06           81\n",
       "Male                                   84.03          484\n",
       "Other / Non-Disclosed                   1.91           11"
      ]
     },
     "execution_count": 5,
     "metadata": {},
     "output_type": "execute_result"
    }
   ],
   "source": [
    "gender_cnt_df = purchase_data.drop_duplicates(subset='SN')\n",
    "gender_cnt = gender_cnt_df.groupby('Gender').count()\n",
    "gender_cnt.head()\n",
    "gender_demo_df = gender_cnt[['Purchase ID']]\n",
    "gender_demo_df = gender_demo_df.rename(columns={'Purchase ID':'Total Count'})\n",
    "gender_demo_df['Percentage of Players'] = gender_demo_df['Total Count'] / len(total_players_array) * 100\n",
    "gender_demo_df = gender_demo_df[['Percentage of Players', 'Total Count']]\n",
    "gender_demo_df['Percentage of Players'] = gender_demo_df['Percentage of Players'].round(2)\n",
    "gender_demo_df.head()"
   ]
  },
  {
   "cell_type": "markdown",
   "metadata": {},
   "source": [
    "## Purchasing Analysis (Gender)\n",
    "* Run basic calculations to obtain purchase count, avg. purchase price, avg. purchase total per person etc. by gender\n",
    "\n",
    "\n",
    "\n",
    "\n",
    "* Create a summary data frame to hold the results\n",
    "\n",
    "\n",
    "* Optional: give the displayed data cleaner formatting\n",
    "\n",
    "\n",
    "* Display the summary data frame"
   ]
  },
  {
   "cell_type": "code",
   "execution_count": 6,
   "metadata": {},
   "outputs": [
    {
     "data": {
      "text/html": [
       "<div>\n",
       "<style scoped>\n",
       "    .dataframe tbody tr th:only-of-type {\n",
       "        vertical-align: middle;\n",
       "    }\n",
       "\n",
       "    .dataframe tbody tr th {\n",
       "        vertical-align: top;\n",
       "    }\n",
       "\n",
       "    .dataframe thead th {\n",
       "        text-align: right;\n",
       "    }\n",
       "</style>\n",
       "<table border=\"1\" class=\"dataframe\">\n",
       "  <thead>\n",
       "    <tr style=\"text-align: right;\">\n",
       "      <th></th>\n",
       "      <th>Purchase Count</th>\n",
       "      <th>Average Purchase Price</th>\n",
       "      <th>Total Purchase Price</th>\n",
       "      <th>Avg Purchase Total per Person</th>\n",
       "    </tr>\n",
       "    <tr>\n",
       "      <th>Gender</th>\n",
       "      <th></th>\n",
       "      <th></th>\n",
       "      <th></th>\n",
       "      <th></th>\n",
       "    </tr>\n",
       "  </thead>\n",
       "  <tbody>\n",
       "    <tr>\n",
       "      <th>Female</th>\n",
       "      <td>113</td>\n",
       "      <td>$3.20</td>\n",
       "      <td>$361.94</td>\n",
       "      <td>$3.20</td>\n",
       "    </tr>\n",
       "    <tr>\n",
       "      <th>Male</th>\n",
       "      <td>652</td>\n",
       "      <td>$3.02</td>\n",
       "      <td>$1,967.64</td>\n",
       "      <td>$3.02</td>\n",
       "    </tr>\n",
       "    <tr>\n",
       "      <th>Other / Non-Disclosed</th>\n",
       "      <td>15</td>\n",
       "      <td>$3.35</td>\n",
       "      <td>$50.19</td>\n",
       "      <td>$3.35</td>\n",
       "    </tr>\n",
       "  </tbody>\n",
       "</table>\n",
       "</div>"
      ],
      "text/plain": [
       "                       Purchase Count Average Purchase Price  \\\n",
       "Gender                                                         \n",
       "Female                            113                  $3.20   \n",
       "Male                              652                  $3.02   \n",
       "Other / Non-Disclosed              15                  $3.35   \n",
       "\n",
       "                      Total Purchase Price Avg Purchase Total per Person  \n",
       "Gender                                                                    \n",
       "Female                             $361.94                         $3.20  \n",
       "Male                             $1,967.64                         $3.02  \n",
       "Other / Non-Disclosed               $50.19                         $3.35  "
      ]
     },
     "execution_count": 6,
     "metadata": {},
     "output_type": "execute_result"
    }
   ],
   "source": [
    "def formCurr(x):\n",
    "    return \"${:,.2f}\".format(x)\n",
    "gender_analysis = purchase_data.groupby('Gender')\n",
    "gender_analysis_df = gender_analysis.count()\n",
    "gender_analysis_df = gender_analysis_df.rename(columns={'Purchase ID': 'Purchase Count'})\n",
    "gender_analysis_df = gender_analysis_df[['Purchase Count']]\n",
    "gender_mean_df = gender_analysis.mean()\n",
    "gender_mean_df = gender_mean_df['Price'].round(2)\n",
    "gender_analysis_df['Average Purchase Price'] = gender_mean_df.apply(formCurr)\n",
    "gender_sum_df = gender_analysis.sum()\n",
    "gender_sum_df = gender_sum_df['Price']\n",
    "gender_analysis_df['Total Purchase Price'] = gender_sum_df.apply(formCurr)\n",
    "gender_analysis_df['Avg Purchase Total per Person'] = (gender_sum_df/gender_analysis_df['Purchase Count']).apply(formCurr)\n",
    "gender_analysis_df.head()"
   ]
  },
  {
   "cell_type": "markdown",
   "metadata": {},
   "source": [
    "## Age Demographics"
   ]
  },
  {
   "cell_type": "markdown",
   "metadata": {},
   "source": [
    "* Establish bins for ages\n",
    "\n",
    "\n",
    "* Categorize the existing players using the age bins. Hint: use pd.cut()\n",
    "\n",
    "\n",
    "* Calculate the numbers and percentages by age group\n",
    "\n",
    "\n",
    "* Create a summary data frame to hold the results\n",
    "\n",
    "\n",
    "* Optional: round the percentage column to two decimal points\n",
    "\n",
    "\n",
    "* Display Age Demographics Table\n"
   ]
  },
  {
   "cell_type": "code",
   "execution_count": 9,
   "metadata": {},
   "outputs": [
    {
     "data": {
      "text/html": [
       "<div>\n",
       "<style scoped>\n",
       "    .dataframe tbody tr th:only-of-type {\n",
       "        vertical-align: middle;\n",
       "    }\n",
       "\n",
       "    .dataframe tbody tr th {\n",
       "        vertical-align: top;\n",
       "    }\n",
       "\n",
       "    .dataframe thead th {\n",
       "        text-align: right;\n",
       "    }\n",
       "</style>\n",
       "<table border=\"1\" class=\"dataframe\">\n",
       "  <thead>\n",
       "    <tr style=\"text-align: right;\">\n",
       "      <th></th>\n",
       "      <th>Percentage of Players</th>\n",
       "      <th>Total Count</th>\n",
       "    </tr>\n",
       "    <tr>\n",
       "      <th>Age Category</th>\n",
       "      <th></th>\n",
       "      <th></th>\n",
       "    </tr>\n",
       "  </thead>\n",
       "  <tbody>\n",
       "    <tr>\n",
       "      <th>&lt;10</th>\n",
       "      <td>2.95</td>\n",
       "      <td>17</td>\n",
       "    </tr>\n",
       "    <tr>\n",
       "      <th>10-14</th>\n",
       "      <td>3.82</td>\n",
       "      <td>22</td>\n",
       "    </tr>\n",
       "    <tr>\n",
       "      <th>15-19</th>\n",
       "      <td>18.58</td>\n",
       "      <td>107</td>\n",
       "    </tr>\n",
       "    <tr>\n",
       "      <th>20-24</th>\n",
       "      <td>44.79</td>\n",
       "      <td>258</td>\n",
       "    </tr>\n",
       "    <tr>\n",
       "      <th>25-29</th>\n",
       "      <td>13.37</td>\n",
       "      <td>77</td>\n",
       "    </tr>\n",
       "    <tr>\n",
       "      <th>30-34</th>\n",
       "      <td>9.03</td>\n",
       "      <td>52</td>\n",
       "    </tr>\n",
       "    <tr>\n",
       "      <th>35-39</th>\n",
       "      <td>5.38</td>\n",
       "      <td>31</td>\n",
       "    </tr>\n",
       "    <tr>\n",
       "      <th>40+</th>\n",
       "      <td>2.08</td>\n",
       "      <td>12</td>\n",
       "    </tr>\n",
       "  </tbody>\n",
       "</table>\n",
       "</div>"
      ],
      "text/plain": [
       "             Percentage of Players  Total Count\n",
       "Age Category                                   \n",
       "<10                           2.95           17\n",
       "10-14                         3.82           22\n",
       "15-19                        18.58          107\n",
       "20-24                        44.79          258\n",
       "25-29                        13.37           77\n",
       "30-34                         9.03           52\n",
       "35-39                         5.38           31\n",
       "40+                           2.08           12"
      ]
     },
     "execution_count": 9,
     "metadata": {},
     "output_type": "execute_result"
    }
   ],
   "source": [
    "# Establish bins for ages\n",
    "age_bins = [0, 9.90, 14.90, 19.90, 24.90, 29.90, 34.90, 39.90, 99999]\n",
    "group_names = [\"<10\", \"10-14\", \"15-19\", \"20-24\", \"25-29\", \"30-34\", \"35-39\", \"40+\"]\n",
    "player_age_unique_groupby = purchase_data.drop_duplicates(subset='SN').groupby(['SN', 'Age'])\n",
    "player_age_df = pd.DataFrame(player_age_unique_groupby.mean())\n",
    "player_age_df = player_age_df[['Purchase ID']]\n",
    "player_age_df = player_age_df.reset_index()\n",
    "#player_age_df = pd.merge(player_age_df, purchase_data[['SN', 'Age']], on=\"SN\", how=\"left\")\n",
    "player_age_df['Age Category'] = pd.cut(player_age_df['Age'], bins=age_bins, labels=group_names)\n",
    "player_age_groupby = player_age_df.groupby('Age Category')\n",
    "player_demo_df = pd.DataFrame(player_age_groupby.count())\n",
    "player_demo_df = player_demo_df.drop(columns=['SN', 'Purchase ID'])\n",
    "player_demo_df = player_demo_df.rename(columns = {'Age': 'Total Count'})\n",
    "player_demo_df['Percentage of Players'] = player_demo_df['Total Count'].astype('float')\n",
    "player_demo_df['Percentage of Players'] = (player_demo_df['Percentage of Players'] / len(total_players_array)) * 100\n",
    "player_demo_df['Percentage of Players'] = player_demo_df['Percentage of Players'].map(\"{:.2f}\".format)\n",
    "player_demo_df = player_demo_df[['Percentage of Players', 'Total Count']]\n",
    "player_demo_df"
   ]
  },
  {
   "cell_type": "markdown",
   "metadata": {},
   "source": [
    "## Purchasing Analysis (Age)"
   ]
  },
  {
   "cell_type": "markdown",
   "metadata": {},
   "source": [
    "* Bin the purchase_data data frame by age\n",
    "\n",
    "\n",
    "* Run basic calculations to obtain purchase count, avg. purchase price, avg. purchase total per person etc. in the table below\n",
    "\n",
    "\n",
    "* Create a summary data frame to hold the results\n",
    "\n",
    "\n",
    "* Optional: give the displayed data cleaner formatting\n",
    "\n",
    "\n",
    "* Display the summary data frame"
   ]
  },
  {
   "cell_type": "code",
   "execution_count": null,
   "metadata": {},
   "outputs": [],
   "source": [
    "purchase_data['Age Category'] = pd.cut(purchase_data['Age'], bins=age_bins, labels=group_names)\n",
    "purchase_age_count_df = pd.DataFrame(purchase_data.groupby('Age Category').count())\n",
    "purchase_age_sum_df = pd.DataFrame(purchase_data.groupby('Age Category').sum())\n",
    "purchase_age_mean_df = pd.DataFrame(purchase_data.groupby('Age Category').mean())\n",
    "purchase_age_count_df = purchase_age_count_df.rename(columns={'Age': 'Purchase Count'})\n",
    "purchase_age_analysis_df = purchase_age_count_df.drop(columns=['Purchase ID', 'SN', 'Gender', 'Item ID', 'Item Name', 'Price'])\n",
    "purchase_age_analysis_df['Total Purchase Value'] = purchase_age_sum_df['Price']\n",
    "purchase_age_analysis_df['Average Purchase Price'] = purchase_age_mean_df['Price']\n",
    "purchase_age_analysis_df['Average Purchase Total per Person'] = purchase_age_analysis_df['Total Purchase Value'] / purchase_age_analysis_df['Purchase Count']\n",
    "purchase_age_analysis_df = purchase_age_analysis_df[['Purchase Count', 'Average Purchase Price', \n",
    "                                                     'Total Purchase Value', 'Average Purchase Total per Person']]\n",
    "purchase_age_analysis_df['Average Purchase Price'] = purchase_age_analysis_df['Average Purchase Price'].map(\"${:,.2f}\".format)\n",
    "purchase_age_analysis_df['Total Purchase Value'] = purchase_age_analysis_df['Total Purchase Value'].map(\"${:,.2f}\".format)\n",
    "purchase_age_analysis_df['Average Purchase Total per Person'] = purchase_age_analysis_df['Average Purchase Total per Person'].map(\"${:,.2f}\".format)\n",
    "purchase_age_analysis_df"
   ]
  },
  {
   "cell_type": "markdown",
   "metadata": {},
   "source": [
    "## Top Spenders"
   ]
  },
  {
   "cell_type": "markdown",
   "metadata": {},
   "source": [
    "* Run basic calculations to obtain the results in the table below\n",
    "\n",
    "\n",
    "* Create a summary data frame to hold the results\n",
    "\n",
    "\n",
    "* Sort the total purchase value column in descending order\n",
    "\n",
    "\n",
    "* Optional: give the displayed data cleaner formatting\n",
    "\n",
    "\n",
    "* Display a preview of the summary data frame\n",
    "\n"
   ]
  },
  {
   "cell_type": "code",
   "execution_count": null,
   "metadata": {},
   "outputs": [],
   "source": [
    "purchase_sn_count_df = pd.DataFrame(purchase_data.groupby('SN').count())\n",
    "top_spenders_df = purchase_sn_count_df[['Purchase ID']]\n",
    "top_spenders_df = top_spenders_df.rename(columns={'Purchase ID': 'Purchase Count'})\n",
    "purchase_sn_sum_df = pd.DataFrame(purchase_data.groupby('SN').sum())\n",
    "purchase_sn_mean_df = pd.DataFrame(purchase_data.groupby('SN').mean())\n",
    "top_spenders_df['Average Purchase Price'] = purchase_sn_mean_df['Price']\n",
    "top_spenders_df['Total Purchase Value'] = purchase_sn_sum_df['Price']\n",
    "top_spenders_df = top_spenders_df.sort_values(by=['Total Purchase Value'], ascending=False)\n",
    "top_spenders_df['Average Purchase Price'] = top_spenders_df['Average Purchase Price'].map(\"${:,.2f}\".format)\n",
    "top_spenders_df['Total Purchase Value'] = top_spenders_df['Total Purchase Value'].map(\"${:,.2f}\".format)\n",
    "top_spenders_df.head()"
   ]
  },
  {
   "cell_type": "markdown",
   "metadata": {},
   "source": [
    "## Most Popular Items"
   ]
  },
  {
   "cell_type": "markdown",
   "metadata": {},
   "source": [
    "* Retrieve the Item ID, Item Name, and Item Price columns\n",
    "\n",
    "\n",
    "* Group by Item ID and Item Name. Perform calculations to obtain purchase count, item price, and total purchase value\n",
    "\n",
    "\n",
    "* Create a summary data frame to hold the results\n",
    "\n",
    "\n",
    "* Sort the purchase count column in descending order\n",
    "\n",
    "\n",
    "* Optional: give the displayed data cleaner formatting\n",
    "\n",
    "\n",
    "* Display a preview of the summary data frame\n",
    "\n"
   ]
  },
  {
   "cell_type": "code",
   "execution_count": null,
   "metadata": {},
   "outputs": [],
   "source": [
    "#purchase_groupby = purchase_data.groupby(['Item ID', 'Item Name']).count()\n",
    "pop_items_df = pd.DataFrame(purchase_data.groupby(['Item ID', 'Item Name'])['Purchase ID'].count())\n",
    "pop_items_df = pop_items_df.rename(columns={'Purchase ID': 'Purchase Count'})\n",
    "pop_items_df['Item Price'] = pd.DataFrame(purchase_data.groupby(['Item ID', 'Item Name'])['Price'].mean())\n",
    "pop_items_df['Total Purchase Value'] = pop_items_df['Item Price'] * pop_items_df['Purchase Count']\n",
    "pop_items_df = pop_items_df.sort_values(by=['Purchase Count'], ascending=False)\n",
    "pop_items_df['Item Price'] = pop_items_df['Item Price'].map(\"${:,.2f}\".format)\n",
    "pop_items_df['Total Purchase Value'] = pop_items_df['Total Purchase Value'].map(\"${:,.2f}\".format)\n",
    "pop_items_df.head()"
   ]
  },
  {
   "cell_type": "markdown",
   "metadata": {},
   "source": [
    "## Most Profitable Items"
   ]
  },
  {
   "cell_type": "markdown",
   "metadata": {},
   "source": [
    "* Sort the above table by total purchase value in descending order\n",
    "\n",
    "\n",
    "* Optional: give the displayed data cleaner formatting\n",
    "\n",
    "\n",
    "* Display a preview of the data frame\n",
    "\n"
   ]
  },
  {
   "cell_type": "code",
   "execution_count": null,
   "metadata": {
    "scrolled": true
   },
   "outputs": [],
   "source": [
    "prof_items_df = pd.DataFrame(purchase_data.groupby(['Item ID', 'Item Name'])['Purchase ID'].count())\n",
    "prof_items_df = pop_items_df.rename(columns={'Purchase ID': 'Purchase Count'})\n",
    "prof_items_df['Item Price'] = pd.DataFrame(purchase_data.groupby(['Item ID', 'Item Name'])['Price'].mean())\n",
    "prof_items_df['Total Purchase Value'] = prof_items_df['Item Price'] * prof_items_df['Purchase Count']\n",
    "prof_items_df = prof_items_df.sort_values(by=['Total Purchase Value'], ascending=False)\n",
    "prof_items_df['Item Price'] = prof_items_df['Item Price'].map(\"${:,.2f}\".format)\n",
    "prof_items_df['Total Purchase Value'] = prof_items_df['Total Purchase Value'].map(\"${:,.2f}\".format)\n",
    "prof_items_df.head()"
   ]
  },
  {
   "cell_type": "code",
   "execution_count": null,
   "metadata": {},
   "outputs": [],
   "source": []
  }
 ],
 "metadata": {
  "anaconda-cloud": {},
  "kernel_info": {
   "name": "python3"
  },
  "kernelspec": {
   "display_name": "Python [default]",
   "language": "python",
   "name": "python3"
  },
  "language_info": {
   "codemirror_mode": {
    "name": "ipython",
    "version": 3
   },
   "file_extension": ".py",
   "mimetype": "text/x-python",
   "name": "python",
   "nbconvert_exporter": "python",
   "pygments_lexer": "ipython3",
   "version": "3.6.5"
  },
  "nteract": {
   "version": "0.8.4"
  }
 },
 "nbformat": 4,
 "nbformat_minor": 1
}
